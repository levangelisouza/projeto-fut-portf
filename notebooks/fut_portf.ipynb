{
 "cells": [
  {
   "cell_type": "code",
   "execution_count": 0,
   "metadata": {
    "application/vnd.databricks.v1+cell": {
     "cellMetadata": {
      "byteLimit": 2048000,
      "rowLimit": 10000
     },
     "inputWidgets": {},
     "nuid": "e077d047-b085-41b0-a06d-583475a16646",
     "showTitle": false,
     "tableResultSettingsMap": {},
     "title": ""
    }
   },
   "outputs": [
    {
     "output_type": "stream",
     "name": "stdout",
     "output_type": "stream",
     "text": [
      "root\n |-- player_id: string (nullable = true)\n |-- first_name: string (nullable = true)\n |-- last_name: string (nullable = true)\n |-- name: string (nullable = true)\n |-- last_season: string (nullable = true)\n |-- current_club_id: string (nullable = true)\n |-- player_code: string (nullable = true)\n |-- country_of_birth: string (nullable = true)\n |-- city_of_birth: string (nullable = true)\n |-- country_of_citizenship: string (nullable = true)\n |-- date_of_birth: string (nullable = true)\n |-- sub_position: string (nullable = true)\n |-- position: string (nullable = true)\n |-- foot: string (nullable = true)\n |-- height_in_cm: string (nullable = true)\n |-- contract_expiration_date: string (nullable = true)\n |-- agent_name: string (nullable = true)\n |-- image_url: string (nullable = true)\n |-- url: string (nullable = true)\n |-- current_club_domestic_competition_id: string (nullable = true)\n |-- current_club_name: string (nullable = true)\n |-- market_value_in_eur: string (nullable = true)\n |-- highest_market_value_in_eur: string (nullable = true)\n\n+---------+----------+------------+------------------+-----------+---------------+------------------+------------------+-------------+----------------------+-------------------+--------------+----------+-----+------------+------------------------+--------------------+--------------------+--------------------+------------------------------------+--------------------+-------------------+---------------------------+\n|player_id|first_name|   last_name|              name|last_season|current_club_id|       player_code|  country_of_birth|city_of_birth|country_of_citizenship|      date_of_birth|  sub_position|  position| foot|height_in_cm|contract_expiration_date|          agent_name|           image_url|                 url|current_club_domestic_competition_id|   current_club_name|market_value_in_eur|highest_market_value_in_eur|\n+---------+----------+------------+------------------+-----------+---------------+------------------+------------------+-------------+----------------------+-------------------+--------------+----------+-----+------------+------------------------+--------------------+--------------------+--------------------+------------------------------------+--------------------+-------------------+---------------------------+\n|       10|  Miroslav|       Klose|    Miroslav Klose|       2015|            398|    miroslav-klose|            Poland|        Opole|               Germany|1978-06-09 00:00:00|Centre-Forward|    Attack|right|         184|                    null|ASBW Sport Marketing|https://img.a.tra...|https://www.trans...|                                 IT1|Società Sportiva ...|            1000000|                   30000000|\n|       26|     Roman|Weidenfeller|Roman Weidenfeller|       2017|             16|roman-weidenfeller|           Germany|         Diez|               Germany|1980-08-06 00:00:00|    Goalkeeper|Goalkeeper| left|         190|                    null|    Neubauer 13 GmbH|https://img.a.tra...|https://www.trans...|                                  L1|   Borussia Dortmund|             750000|                    8000000|\n|       65|   Dimitar|    Berbatov|  Dimitar Berbatov|       2015|           1091|  dimitar-berbatov|          Bulgaria|  Blagoevgrad|              Bulgaria|1981-01-30 00:00:00|Centre-Forward|    Attack| null|        null|                    null|     CSKA-AS-23 Ltd.|https://img.a.tra...|https://www.trans...|                                 GR1|Panthessalonikios...|            1000000|                   34500000|\n|       77|      null|       Lúcio|             Lúcio|       2012|            506|             lucio|            Brazil|     Brasília|                Brazil|1978-05-08 00:00:00|   Centre-Back|  Defender| null|        null|                    null|                null|https://img.a.tra...|https://www.trans...|                                 IT1|Juventus Football...|             200000|                   24500000|\n|       80|       Tom|      Starke|        Tom Starke|       2017|             27|        tom-starke|East Germany (GDR)|      Freital|               Germany|1981-03-18 00:00:00|    Goalkeeper|Goalkeeper|right|         194|                    null|                 IFM|https://img.a.tra...|https://www.trans...|                                  L1|   FC Bayern München|             100000|                    3000000|\n+---------+----------+------------+------------------+-----------+---------------+------------------+------------------+-------------+----------------------+-------------------+--------------+----------+-----+------------+------------------------+--------------------+--------------------+--------------------+------------------------------------+--------------------+-------------------+---------------------------+\nonly showing top 5 rows\n\n"
     ]
    }
   ],
   "source": [
    "df = spark.read.option(\"header\", True).csv(\"/FileStore/tables/players.csv\")\n",
    "df.printSchema()\n",
    "df.show(5)"
   ]
  },
  {
   "cell_type": "code",
   "execution_count": 0,
   "metadata": {
    "application/vnd.databricks.v1+cell": {
     "cellMetadata": {
      "byteLimit": 2048000,
      "rowLimit": 10000
     },
     "inputWidgets": {},
     "nuid": "cd9f49e8-b3fe-44a9-b69d-add872b4b48d",
     "showTitle": false,
     "tableResultSettingsMap": {},
     "title": ""
    }
   },
   "outputs": [
    {
     "output_type": "stream",
     "name": "stdout",
     "output_type": "stream",
     "text": [
      "+----------------------+-------------+\n|country_of_citizenship|max_value_eur|\n+----------------------+-------------+\n|                Norway|    200000000|\n|                Brazil|    200000000|\n|                 Spain|    180000000|\n|               England|    180000000|\n|                France|    170000000|\n|               Germany|    140000000|\n|               Uruguay|    130000000|\n|                Sweden|    100000000|\n|             Argentina|     95000000|\n|              Colombia|     85000000|\n+----------------------+-------------+\nonly showing top 10 rows\n\n"
     ]
    }
   ],
   "source": [
    "from pyspark.sql.functions import col, desc\n",
    "\n",
    "# 1. Conversão de tipos\n",
    "df = df.withColumn(\"market_value_in_eur\", col(\"market_value_in_eur\").cast(\"int\"))\n",
    "\n",
    "# 2. Filtro de registros válidos\n",
    "df_valid = df.filter(col(\"market_value_in_eur\").isNotNull() & (col(\"market_value_in_eur\") > 0))\n",
    "\n",
    "# 3. Top jogadores por nacionalidade\n",
    "df_top = df_valid.groupBy(\"country_of_citizenship\").agg(\n",
    "    {\"market_value_in_eur\": \"max\"}\n",
    ").withColumnRenamed(\"max(market_value_in_eur)\", \"max_value_eur\")\n",
    "\n",
    "df_top = df_top.orderBy(desc(\"max_value_eur\"))\n",
    "\n",
    "# 4. Exibir resultado\n",
    "df_top.show(10)\n",
    "\n",
    "# 5. Exportar resultado como Parquet\n",
    "df_top.write.mode(\"overwrite\").parquet(\"/FileStore/tables/top_jogadores_por_nacao.parquet\")\n"
   ]
  },
  {
   "cell_type": "code",
   "execution_count": 0,
   "metadata": {
    "application/vnd.databricks.v1+cell": {
     "cellMetadata": {
      "byteLimit": 2048000,
      "rowLimit": 10000
     },
     "inputWidgets": {},
     "nuid": "687aff88-58f6-4090-8ea6-29166ddaa529",
     "showTitle": false,
     "tableResultSettingsMap": {},
     "title": ""
    }
   },
   "outputs": [],
   "source": [
    "df_top.write.mode(\"overwrite\").option(\"header\", True).csv(\"/FileStore/tables/top_jogadores_por_nacao_csv\")\n"
   ]
  },
  {
   "cell_type": "code",
   "execution_count": 0,
   "metadata": {
    "application/vnd.databricks.v1+cell": {
     "cellMetadata": {
      "byteLimit": 2048000,
      "rowLimit": 10000
     },
     "inputWidgets": {},
     "nuid": "f16c6864-78e5-4383-b54d-872443c8bbb8",
     "showTitle": false,
     "tableResultSettingsMap": {},
     "title": ""
    }
   },
   "outputs": [
    {
     "output_type": "stream",
     "name": "stdout",
     "output_type": "stream",
     "text": [
      "Out[6]: [FileInfo(path='dbfs:/FileStore/tables/top_jogadores_por_nacao_csv/_SUCCESS', name='_SUCCESS', size=0, modificationTime=1747927846000),\n FileInfo(path='dbfs:/FileStore/tables/top_jogadores_por_nacao_csv/_committed_5941356486223486116', name='_committed_5941356486223486116', size=112, modificationTime=1747927846000),\n FileInfo(path='dbfs:/FileStore/tables/top_jogadores_por_nacao_csv/_started_5941356486223486116', name='_started_5941356486223486116', size=0, modificationTime=1747927845000),\n FileInfo(path='dbfs:/FileStore/tables/top_jogadores_por_nacao_csv/part-00000-tid-5941356486223486116-2838e9a4-b027-4956-9545-cf33c9710eef-17-1-c000.csv', name='part-00000-tid-5941356486223486116-2838e9a4-b027-4956-9545-cf33c9710eef-17-1-c000.csv', size=3291, modificationTime=1747927846000)]"
     ]
    }
   ],
   "source": [
    "dbutils.fs.ls(\"/FileStore/tables/top_jogadores_por_nacao_csv/\")\n"
   ]
  },
  {
   "cell_type": "code",
   "execution_count": 0,
   "metadata": {
    "application/vnd.databricks.v1+cell": {
     "cellMetadata": {
      "byteLimit": 2048000,
      "rowLimit": 10000
     },
     "inputWidgets": {},
     "nuid": "d419ff84-ff41-4495-aaff-1ab72688d734",
     "showTitle": false,
     "tableResultSettingsMap": {},
     "title": ""
    }
   },
   "outputs": [
    {
     "output_type": "stream",
     "name": "stdout",
     "output_type": "stream",
     "text": [
      "🔗 Link para download:\nhttps://community.cloud.databricks.com/files/top_jogadores_por_nacao_csv/part-00000-tid-5941356486223486116-2838e9a4-b027-4956-9545-cf33c9710eef-17-1-c000.csv\n"
     ]
    }
   ],
   "source": [
    "# Caminho base\n",
    "base_url = \"https://community.cloud.databricks.com/files/top_jogadores_por_nacao_csv/\"\n",
    "\n",
    "# Listar arquivos\n",
    "arquivos = dbutils.fs.ls(\"/FileStore/tables/top_jogadores_por_nacao_csv/\")\n",
    "\n",
    "# Filtrar só o CSV real\n",
    "for arquivo in arquivos:\n",
    "    if arquivo.name.endswith(\".csv\"):\n",
    "        print(\"🔗 Link para download:\")\n",
    "        print(base_url + arquivo.name)\n"
   ]
  },
  {
   "cell_type": "code",
   "execution_count": 0,
   "metadata": {
    "application/vnd.databricks.v1+cell": {
     "cellMetadata": {
      "byteLimit": 2048000,
      "rowLimit": 10000
     },
     "inputWidgets": {},
     "nuid": "c61c97e7-9f0b-44ec-8131-0700d545f804",
     "showTitle": false,
     "tableResultSettingsMap": {},
     "title": ""
    }
   },
   "outputs": [
    {
     "output_type": "stream",
     "name": "stdout",
     "output_type": "stream",
     "text": [
      "Out[10]: True"
     ]
    }
   ],
   "source": [
    "# Salvar um único CSV em um único arquivo\n",
    "df_top.coalesce(1).write.mode(\"overwrite\").option(\"header\", True).csv(\"/tmp/top_jogadores.csv\")\n",
    "\n",
    "\n",
    "dbutils.fs.ls(\"/tmp/top_jogadores.csv/\")\n",
    "\n",
    "\n",
    "# Copiar o arquivo CSV do /tmp para /FileStore para acesso via navegador\n",
    "dbutils.fs.cp(\n",
    "    \"dbfs:/tmp/top_jogadores.csv/part-00000-tid-7642473000456351545-e8cec414-f7bb-4552-97d0-cf048f558e95-23-1-c000.csv\",\n",
    "    \"dbfs:/FileStore/top_jogadores_por_nacao.csv\"\n",
    ")\n",
    "\n"
   ]
  },
  {
   "cell_type": "code",
   "execution_count": 0,
   "metadata": {
    "application/vnd.databricks.v1+cell": {
     "cellMetadata": {
      "byteLimit": 2048000,
      "rowLimit": 10000
     },
     "inputWidgets": {},
     "nuid": "ad6be2fd-7de6-4ede-8391-3a15dd8469bc",
     "showTitle": false,
     "tableResultSettingsMap": {},
     "title": ""
    }
   },
   "outputs": [
    {
     "output_type": "display_data",
     "data": {
      "text/html": [
       "<style scoped>\n",
       "  .table-result-container {\n",
       "    max-height: 300px;\n",
       "    overflow: auto;\n",
       "  }\n",
       "  table, th, td {\n",
       "    border: 1px solid black;\n",
       "    border-collapse: collapse;\n",
       "  }\n",
       "  th, td {\n",
       "    padding: 5px;\n",
       "  }\n",
       "  th {\n",
       "    text-align: left;\n",
       "  }\n",
       "</style><div class='table-result-container'><table class='table-result'><thead style='background-color: white'><tr><th>country_of_citizenship</th><th>max_value_eur</th></tr></thead><tbody><tr><td>Norway</td><td>200000000</td></tr><tr><td>Brazil</td><td>200000000</td></tr><tr><td>Spain</td><td>180000000</td></tr><tr><td>England</td><td>180000000</td></tr><tr><td>France</td><td>170000000</td></tr><tr><td>Germany</td><td>140000000</td></tr><tr><td>Uruguay</td><td>130000000</td></tr><tr><td>Sweden</td><td>100000000</td></tr><tr><td>Argentina</td><td>95000000</td></tr><tr><td>Colombia</td><td>85000000</td></tr><tr><td>Ecuador</td><td>80000000</td></tr><tr><td>Italy</td><td>80000000</td></tr><tr><td>Georgia</td><td>80000000</td></tr><tr><td>Hungary</td><td>80000000</td></tr><tr><td>Croatia</td><td>75000000</td></tr><tr><td>Portugal</td><td>75000000</td></tr><tr><td>Egypt</td><td>75000000</td></tr><tr><td>Nigeria</td><td>70000000</td></tr><tr><td>Netherlands</td><td>70000000</td></tr><tr><td>Morocco</td><td>65000000</td></tr><tr><td>Slovenia</td><td>65000000</td></tr><tr><td>Belgium</td><td>60000000</td></tr><tr><td>Senegal</td><td>55000000</td></tr><tr><td>Wales</td><td>50000000</td></tr><tr><td>Ghana</td><td>50000000</td></tr><tr><td>United States</td><td>50000000</td></tr><tr><td>Canada</td><td>50000000</td></tr><tr><td>Cameroon</td><td>50000000</td></tr><tr><td>Türkiye</td><td>45000000</td></tr><tr><td>Denmark</td><td>45000000</td></tr><tr><td>Korea, South</td><td>45000000</td></tr><tr><td>Japan</td><td>45000000</td></tr><tr><td>Serbia</td><td>45000000</td></tr><tr><td>null</td><td>40000000</td></tr><tr><td>Ukraine</td><td>40000000</td></tr><tr><td>Cote d'Ivoire</td><td>40000000</td></tr><tr><td>Switzerland</td><td>40000000</td></tr><tr><td>Guinea</td><td>40000000</td></tr><tr><td>Burkina Faso</td><td>40000000</td></tr><tr><td>Scotland</td><td>40000000</td></tr><tr><td>Mexico</td><td>37000000</td></tr><tr><td>Algeria</td><td>35000000</td></tr><tr><td>Uzbekistan</td><td>35000000</td></tr><tr><td>Slovakia</td><td>32000000</td></tr><tr><td>Ireland</td><td>32000000</td></tr><tr><td>Jamaica</td><td>32000000</td></tr><tr><td>DR Congo</td><td>30000000</td></tr><tr><td>The Gambia</td><td>30000000</td></tr><tr><td>Mali</td><td>30000000</td></tr><tr><td>Greece</td><td>28000000</td></tr><tr><td>Poland</td><td>28000000</td></tr><tr><td>Czech Republic</td><td>27000000</td></tr><tr><td>Russia</td><td>25000000</td></tr><tr><td>Kosovo</td><td>25000000</td></tr><tr><td>Romania</td><td>25000000</td></tr><tr><td>Austria</td><td>25000000</td></tr><tr><td>Northern Ireland</td><td>25000000</td></tr><tr><td>Iceland</td><td>23000000</td></tr><tr><td>Paraguay</td><td>22000000</td></tr><tr><td>Bosnia-Herzegovina</td><td>22000000</td></tr><tr><td>Turkey</td><td>20000000</td></tr><tr><td>Venezuela</td><td>20000000</td></tr><tr><td>Armenia</td><td>20000000</td></tr><tr><td>Guinea-Bissau</td><td>20000000</td></tr><tr><td>Zambia</td><td>18000000</td></tr><tr><td>Togo</td><td>16000000</td></tr><tr><td>Albania</td><td>15000000</td></tr><tr><td>Cape Verde</td><td>15000000</td></tr><tr><td>Zimbabwe</td><td>15000000</td></tr><tr><td>Trinidad and Tobago</td><td>15000000</td></tr><tr><td>Mozambique</td><td>15000000</td></tr><tr><td>Luxembourg</td><td>15000000</td></tr><tr><td>Costa Rica</td><td>15000000</td></tr><tr><td>Montenegro</td><td>14000000</td></tr><tr><td>North Macedonia</td><td>14000000</td></tr><tr><td>Israel</td><td>13000000</td></tr><tr><td>South Africa</td><td>13000000</td></tr><tr><td>Equatorial Guinea</td><td>12000000</td></tr><tr><td>Angola</td><td>12000000</td></tr><tr><td>Burundi</td><td>12000000</td></tr><tr><td>Libya</td><td>10000000</td></tr><tr><td>New Zealand</td><td>10000000</td></tr><tr><td>Panama</td><td>9000000</td></tr><tr><td>Tunisia</td><td>9000000</td></tr><tr><td>Kenya</td><td>9000000</td></tr><tr><td>Australia</td><td>8500000</td></tr><tr><td>Chile</td><td>8000000</td></tr><tr><td>Gabon</td><td>8000000</td></tr><tr><td>Central African Republic</td><td>8000000</td></tr><tr><td>Iran</td><td>8000000</td></tr><tr><td>Bulgaria</td><td>8000000</td></tr><tr><td>Indonesia</td><td>7000000</td></tr><tr><td>Jordan</td><td>6000000</td></tr><tr><td>Finland</td><td>5000000</td></tr><tr><td>Lithuania</td><td>5000000</td></tr><tr><td>Mauritania</td><td>5000000</td></tr><tr><td>Syria</td><td>5000000</td></tr><tr><td>Qatar</td><td>4500000</td></tr><tr><td>Curacao</td><td>4500000</td></tr><tr><td>Comoros</td><td>4000000</td></tr><tr><td>Sierra Leone</td><td>4000000</td></tr><tr><td>Malta</td><td>4000000</td></tr><tr><td>Suriname</td><td>4000000</td></tr><tr><td>Congo</td><td>4000000</td></tr><tr><td>Saudi Arabia</td><td>4000000</td></tr><tr><td>Moldova</td><td>4000000</td></tr><tr><td>Chad</td><td>3500000</td></tr><tr><td>Peru</td><td>3500000</td></tr><tr><td>Guadeloupe</td><td>3500000</td></tr><tr><td>Niger</td><td>3500000</td></tr><tr><td>Honduras</td><td>3500000</td></tr><tr><td>Haiti</td><td>3500000</td></tr><tr><td>Kazakhstan</td><td>3500000</td></tr><tr><td>Iraq</td><td>3000000</td></tr><tr><td>Benin</td><td>3000000</td></tr><tr><td>Cyprus</td><td>3000000</td></tr><tr><td>Estonia</td><td>3000000</td></tr><tr><td>Madagascar</td><td>2500000</td></tr><tr><td>Martinique</td><td>2500000</td></tr><tr><td>Grenada</td><td>2500000</td></tr><tr><td>Latvia</td><td>2500000</td></tr><tr><td>China</td><td>2000000</td></tr><tr><td>Azerbaijan</td><td>1800000</td></tr><tr><td>Tajikistan</td><td>1500000</td></tr><tr><td>French Guiana</td><td>1500000</td></tr><tr><td>Dominican Republic</td><td>1500000</td></tr><tr><td>Belarus</td><td>1400000</td></tr><tr><td>Palestine</td><td>1200000</td></tr><tr><td>Rwanda</td><td>1000000</td></tr><tr><td>Bolivia</td><td>1000000</td></tr><tr><td>Cuba</td><td>1000000</td></tr><tr><td>Guatemala</td><td>1000000</td></tr><tr><td>St. Kitts & Nevis</td><td>1000000</td></tr><tr><td>Tanzania</td><td>1000000</td></tr><tr><td>Chinese Taipei</td><td>800000</td></tr><tr><td>Philippines</td><td>800000</td></tr><tr><td>Thailand</td><td>800000</td></tr><tr><td>Liberia</td><td>800000</td></tr><tr><td>Lebanon</td><td>800000</td></tr><tr><td>Andorra</td><td>800000</td></tr><tr><td>Malaysia</td><td>750000</td></tr><tr><td>Aruba</td><td>725000</td></tr><tr><td>Bermuda</td><td>700000</td></tr><tr><td>Uganda</td><td>650000</td></tr><tr><td>Antigua and Barbuda</td><td>600000</td></tr><tr><td>Neukaledonien</td><td>500000</td></tr><tr><td>Bonaire</td><td>500000</td></tr><tr><td>Kyrgyzstan</td><td>500000</td></tr><tr><td>Afghanistan</td><td>400000</td></tr><tr><td>Montserrat</td><td>400000</td></tr><tr><td>Tahiti</td><td>400000</td></tr><tr><td>Korea, North</td><td>400000</td></tr><tr><td>Eritrea</td><td>350000</td></tr><tr><td>Saint-Martin</td><td>350000</td></tr><tr><td>El Salvador</td><td>350000</td></tr><tr><td>Sint Maarten</td><td>350000</td></tr><tr><td>Guyana</td><td>300000</td></tr><tr><td>St. Lucia</td><td>300000</td></tr><tr><td>Sao Tome and Principe</td><td>300000</td></tr><tr><td>Barbados</td><td>300000</td></tr><tr><td>Liechtenstein</td><td>300000</td></tr><tr><td>Ethiopia</td><td>300000</td></tr><tr><td>Papua New Guinea</td><td>300000</td></tr><tr><td>Vietnam</td><td>300000</td></tr><tr><td>Bahrain</td><td>300000</td></tr><tr><td>Oman</td><td>250000</td></tr><tr><td>Faroe Islands</td><td>250000</td></tr><tr><td>Malawi</td><td>200000</td></tr><tr><td>Laos</td><td>200000</td></tr><tr><td>Mauritius</td><td>200000</td></tr><tr><td>Brunei Darussalam</td><td>175000</td></tr><tr><td>Réunion</td><td>150000</td></tr><tr><td>Macao</td><td>150000</td></tr><tr><td>Nicaragua</td><td>150000</td></tr><tr><td>Southern Sudan</td><td>150000</td></tr><tr><td>Turkmenistan</td><td>100000</td></tr><tr><td>Pakistan</td><td>100000</td></tr><tr><td>Singapore</td><td>100000</td></tr><tr><td>Seychelles</td><td>75000</td></tr><tr><td>United Arab Emirates</td><td>50000</td></tr><tr><td>San Marino</td><td>50000</td></tr><tr><td>Monaco</td><td>50000</td></tr><tr><td>India</td><td>25000</td></tr><tr><td>Somalia</td><td>25000</td></tr></tbody></table></div>"
      ]
     },
     "metadata": {
      "application/vnd.databricks.v1+output": {
       "addedWidgets": {},
       "aggData": [],
       "aggError": "",
       "aggOverflow": false,
       "aggSchema": [],
       "aggSeriesLimitReached": false,
       "aggType": "",
       "arguments": {},
       "columnCustomDisplayInfos": {},
       "data": [
        [
         "Norway",
         200000000
        ],
        [
         "Brazil",
         200000000
        ],
        [
         "Spain",
         180000000
        ],
        [
         "England",
         180000000
        ],
        [
         "France",
         170000000
        ],
        [
         "Germany",
         140000000
        ],
        [
         "Uruguay",
         130000000
        ],
        [
         "Sweden",
         100000000
        ],
        [
         "Argentina",
         95000000
        ],
        [
         "Colombia",
         85000000
        ],
        [
         "Ecuador",
         80000000
        ],
        [
         "Italy",
         80000000
        ],
        [
         "Georgia",
         80000000
        ],
        [
         "Hungary",
         80000000
        ],
        [
         "Croatia",
         75000000
        ],
        [
         "Portugal",
         75000000
        ],
        [
         "Egypt",
         75000000
        ],
        [
         "Nigeria",
         70000000
        ],
        [
         "Netherlands",
         70000000
        ],
        [
         "Morocco",
         65000000
        ],
        [
         "Slovenia",
         65000000
        ],
        [
         "Belgium",
         60000000
        ],
        [
         "Senegal",
         55000000
        ],
        [
         "Wales",
         50000000
        ],
        [
         "Ghana",
         50000000
        ],
        [
         "United States",
         50000000
        ],
        [
         "Canada",
         50000000
        ],
        [
         "Cameroon",
         50000000
        ],
        [
         "Türkiye",
         45000000
        ],
        [
         "Denmark",
         45000000
        ],
        [
         "Korea, South",
         45000000
        ],
        [
         "Japan",
         45000000
        ],
        [
         "Serbia",
         45000000
        ],
        [
         null,
         40000000
        ],
        [
         "Ukraine",
         40000000
        ],
        [
         "Cote d'Ivoire",
         40000000
        ],
        [
         "Switzerland",
         40000000
        ],
        [
         "Guinea",
         40000000
        ],
        [
         "Burkina Faso",
         40000000
        ],
        [
         "Scotland",
         40000000
        ],
        [
         "Mexico",
         37000000
        ],
        [
         "Algeria",
         35000000
        ],
        [
         "Uzbekistan",
         35000000
        ],
        [
         "Slovakia",
         32000000
        ],
        [
         "Ireland",
         32000000
        ],
        [
         "Jamaica",
         32000000
        ],
        [
         "DR Congo",
         30000000
        ],
        [
         "The Gambia",
         30000000
        ],
        [
         "Mali",
         30000000
        ],
        [
         "Greece",
         28000000
        ],
        [
         "Poland",
         28000000
        ],
        [
         "Czech Republic",
         27000000
        ],
        [
         "Russia",
         25000000
        ],
        [
         "Kosovo",
         25000000
        ],
        [
         "Romania",
         25000000
        ],
        [
         "Austria",
         25000000
        ],
        [
         "Northern Ireland",
         25000000
        ],
        [
         "Iceland",
         23000000
        ],
        [
         "Paraguay",
         22000000
        ],
        [
         "Bosnia-Herzegovina",
         22000000
        ],
        [
         "Turkey",
         20000000
        ],
        [
         "Venezuela",
         20000000
        ],
        [
         "Armenia",
         20000000
        ],
        [
         "Guinea-Bissau",
         20000000
        ],
        [
         "Zambia",
         18000000
        ],
        [
         "Togo",
         16000000
        ],
        [
         "Albania",
         15000000
        ],
        [
         "Cape Verde",
         15000000
        ],
        [
         "Zimbabwe",
         15000000
        ],
        [
         "Trinidad and Tobago",
         15000000
        ],
        [
         "Mozambique",
         15000000
        ],
        [
         "Luxembourg",
         15000000
        ],
        [
         "Costa Rica",
         15000000
        ],
        [
         "Montenegro",
         14000000
        ],
        [
         "North Macedonia",
         14000000
        ],
        [
         "Israel",
         13000000
        ],
        [
         "South Africa",
         13000000
        ],
        [
         "Equatorial Guinea",
         12000000
        ],
        [
         "Angola",
         12000000
        ],
        [
         "Burundi",
         12000000
        ],
        [
         "Libya",
         10000000
        ],
        [
         "New Zealand",
         10000000
        ],
        [
         "Panama",
         9000000
        ],
        [
         "Tunisia",
         9000000
        ],
        [
         "Kenya",
         9000000
        ],
        [
         "Australia",
         8500000
        ],
        [
         "Chile",
         8000000
        ],
        [
         "Gabon",
         8000000
        ],
        [
         "Central African Republic",
         8000000
        ],
        [
         "Iran",
         8000000
        ],
        [
         "Bulgaria",
         8000000
        ],
        [
         "Indonesia",
         7000000
        ],
        [
         "Jordan",
         6000000
        ],
        [
         "Finland",
         5000000
        ],
        [
         "Lithuania",
         5000000
        ],
        [
         "Mauritania",
         5000000
        ],
        [
         "Syria",
         5000000
        ],
        [
         "Qatar",
         4500000
        ],
        [
         "Curacao",
         4500000
        ],
        [
         "Comoros",
         4000000
        ],
        [
         "Sierra Leone",
         4000000
        ],
        [
         "Malta",
         4000000
        ],
        [
         "Suriname",
         4000000
        ],
        [
         "Congo",
         4000000
        ],
        [
         "Saudi Arabia",
         4000000
        ],
        [
         "Moldova",
         4000000
        ],
        [
         "Chad",
         3500000
        ],
        [
         "Peru",
         3500000
        ],
        [
         "Guadeloupe",
         3500000
        ],
        [
         "Niger",
         3500000
        ],
        [
         "Honduras",
         3500000
        ],
        [
         "Haiti",
         3500000
        ],
        [
         "Kazakhstan",
         3500000
        ],
        [
         "Iraq",
         3000000
        ],
        [
         "Benin",
         3000000
        ],
        [
         "Cyprus",
         3000000
        ],
        [
         "Estonia",
         3000000
        ],
        [
         "Madagascar",
         2500000
        ],
        [
         "Martinique",
         2500000
        ],
        [
         "Grenada",
         2500000
        ],
        [
         "Latvia",
         2500000
        ],
        [
         "China",
         2000000
        ],
        [
         "Azerbaijan",
         1800000
        ],
        [
         "Tajikistan",
         1500000
        ],
        [
         "French Guiana",
         1500000
        ],
        [
         "Dominican Republic",
         1500000
        ],
        [
         "Belarus",
         1400000
        ],
        [
         "Palestine",
         1200000
        ],
        [
         "Rwanda",
         1000000
        ],
        [
         "Bolivia",
         1000000
        ],
        [
         "Cuba",
         1000000
        ],
        [
         "Guatemala",
         1000000
        ],
        [
         "St. Kitts & Nevis",
         1000000
        ],
        [
         "Tanzania",
         1000000
        ],
        [
         "Chinese Taipei",
         800000
        ],
        [
         "Philippines",
         800000
        ],
        [
         "Thailand",
         800000
        ],
        [
         "Liberia",
         800000
        ],
        [
         "Lebanon",
         800000
        ],
        [
         "Andorra",
         800000
        ],
        [
         "Malaysia",
         750000
        ],
        [
         "Aruba",
         725000
        ],
        [
         "Bermuda",
         700000
        ],
        [
         "Uganda",
         650000
        ],
        [
         "Antigua and Barbuda",
         600000
        ],
        [
         "Neukaledonien",
         500000
        ],
        [
         "Bonaire",
         500000
        ],
        [
         "Kyrgyzstan",
         500000
        ],
        [
         "Afghanistan",
         400000
        ],
        [
         "Montserrat",
         400000
        ],
        [
         "Tahiti",
         400000
        ],
        [
         "Korea, North",
         400000
        ],
        [
         "Eritrea",
         350000
        ],
        [
         "Saint-Martin",
         350000
        ],
        [
         "El Salvador",
         350000
        ],
        [
         "Sint Maarten",
         350000
        ],
        [
         "Guyana",
         300000
        ],
        [
         "St. Lucia",
         300000
        ],
        [
         "Sao Tome and Principe",
         300000
        ],
        [
         "Barbados",
         300000
        ],
        [
         "Liechtenstein",
         300000
        ],
        [
         "Ethiopia",
         300000
        ],
        [
         "Papua New Guinea",
         300000
        ],
        [
         "Vietnam",
         300000
        ],
        [
         "Bahrain",
         300000
        ],
        [
         "Oman",
         250000
        ],
        [
         "Faroe Islands",
         250000
        ],
        [
         "Malawi",
         200000
        ],
        [
         "Laos",
         200000
        ],
        [
         "Mauritius",
         200000
        ],
        [
         "Brunei Darussalam",
         175000
        ],
        [
         "Réunion",
         150000
        ],
        [
         "Macao",
         150000
        ],
        [
         "Nicaragua",
         150000
        ],
        [
         "Southern Sudan",
         150000
        ],
        [
         "Turkmenistan",
         100000
        ],
        [
         "Pakistan",
         100000
        ],
        [
         "Singapore",
         100000
        ],
        [
         "Seychelles",
         75000
        ],
        [
         "United Arab Emirates",
         50000
        ],
        [
         "San Marino",
         50000
        ],
        [
         "Monaco",
         50000
        ],
        [
         "India",
         25000
        ],
        [
         "Somalia",
         25000
        ]
       ],
       "datasetInfos": [],
       "dbfsResultPath": null,
       "isJsonSchema": true,
       "metadata": {},
       "overflow": false,
       "plotOptions": {
        "customPlotOptions": {},
        "displayType": "table",
        "pivotAggregation": null,
        "pivotColumns": null,
        "xColumns": null,
        "yColumns": null
       },
       "removedWidgets": [],
       "schema": [
        {
         "metadata": "{}",
         "name": "country_of_citizenship",
         "type": "\"string\""
        },
        {
         "metadata": "{}",
         "name": "max_value_eur",
         "type": "\"integer\""
        }
       ],
       "type": "table"
      }
     },
     "output_type": "display_data"
    }
   ],
   "source": [
    "display(df_top)\n"
   ]
  }
 ],
 "metadata": {
  "application/vnd.databricks.v1+notebook": {
   "computePreferences": null,
   "dashboards": [],
   "environmentMetadata": {
    "base_environment": "",
    "environment_version": "1"
   },
   "inputWidgetPreferences": null,
   "language": "python",
   "notebookMetadata": {
    "pythonIndentUnit": 4
   },
   "notebookName": "fut_portf",
   "widgets": {}
  }
 },
 "nbformat": 4,
 "nbformat_minor": 0
}